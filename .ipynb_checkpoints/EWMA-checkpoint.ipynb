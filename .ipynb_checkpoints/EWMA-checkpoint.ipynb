{
 "cells": [
  {
   "cell_type": "code",
   "execution_count": 3,
   "metadata": {},
   "outputs": [],
   "source": [
    "import numpy as np\n",
    "import matplotlib.pyplot as plt\n",
    "from sklearn import datasets\n",
    "import random\n",
    "from ipywidgets import interact, interactive\n",
    "import ipywidgets as widgets\n",
    "import pandas"
   ]
  },
  {
   "cell_type": "markdown",
   "metadata": {},
   "source": [
    "## Data"
   ]
  },
  {
   "cell_type": "markdown",
   "metadata": {},
   "source": [
    " Generate toy time series X, Y data. "
   ]
  },
  {
   "cell_type": "code",
   "execution_count": 4,
   "metadata": {},
   "outputs": [],
   "source": [
    "def fake_data():\n",
    "    x = np.array(range(0, 20))\n",
    "    def x_to_y(x):\n",
    "        return (random.randint(0,10)*0.1*x*x) + (x*random.randint(-10,10)) + random.randint(-100,100)\n",
    "    y = list(map(x_to_y, x))\n",
    "    return x, y\n",
    "\n",
    "X, y = fake_data()"
   ]
  },
  {
   "cell_type": "markdown",
   "metadata": {},
   "source": [
    "Use pandas ewm function to calcualte the exponentially weighted moving average to an input array.\n",
    "You can use the Center of Mass or the Span (see docs below) to define how the weighted average is calculated.\n",
    "You can also use the `adjust` parameter, which \"Divides by decaying adjustment factor in beginning periods to account for imbalance in relative weightings\".\n",
    "\n",
    "Docs: https://pandas.pydata.org/pandas-docs/stable/reference/api/pandas.DataFrame.ewm.html"
   ]
  },
  {
   "cell_type": "markdown",
   "metadata": {},
   "source": [
    "## EWMA Widgets"
   ]
  },
  {
   "cell_type": "code",
   "execution_count": 5,
   "metadata": {},
   "outputs": [
    {
     "data": {
      "application/vnd.jupyter.widget-view+json": {
       "model_id": "1c1ad8b0018d4d92874daf435e284d36",
       "version_major": 2,
       "version_minor": 0
      },
      "text/plain": [
       "interactive(children=(Checkbox(value=True, description='use_center_of_mass'), Output()), _dom_classes=('widget…"
      ]
     },
     "metadata": {},
     "output_type": "display_data"
    }
   ],
   "source": [
    "def ewma(arr, **kwargs):\n",
    "    return pandas.DataFrame(arr).ewm(**kwargs).mean()\n",
    "\n",
    "def plot(**kwargs):\n",
    "    plt.scatter(X, y)\n",
    "    plt.plot(X, ewma(y, **kwargs), color='red')\n",
    "\n",
    "def plot_com_or_span(use_center_of_mass=True):\n",
    "    if use_center_of_mass == True:\n",
    "        interactive_plot = interactive(plot, com=(0, 5, 0.1), adjust=True)\n",
    "    else:\n",
    "        interactive_plot = interactive(plot, span=(1, 20, 1), adjust=True)\n",
    "    display(interactive_plot)\n",
    "\n",
    "interactive_plots = interactive(plot_com_or_span, use_center_of_mass=True)\n",
    "interactive_plots"
   ]
  }
 ],
 "metadata": {
  "kernelspec": {
   "display_name": "Python 3",
   "language": "python",
   "name": "python3"
  },
  "language_info": {
   "codemirror_mode": {
    "name": "ipython",
    "version": 3
   },
   "file_extension": ".py",
   "mimetype": "text/x-python",
   "name": "python",
   "nbconvert_exporter": "python",
   "pygments_lexer": "ipython3",
   "version": "3.6.8"
  }
 },
 "nbformat": 4,
 "nbformat_minor": 2
}
